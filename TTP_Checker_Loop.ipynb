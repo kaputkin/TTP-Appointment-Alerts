{
 "cells": [
  {
   "cell_type": "code",
   "execution_count": 14,
   "id": "91eb4146",
   "metadata": {},
   "outputs": [],
   "source": [
    "import requests\n",
    "import json\n",
    "from datetime import datetime, timedelta\n",
    "import smtplib\n",
    "import os\n",
    "from twilio.rest import Client\n",
    "import time"
   ]
  },
  {
   "cell_type": "code",
   "execution_count": 55,
   "id": "ef0fb240",
   "metadata": {},
   "outputs": [
    {
     "name": "stdout",
     "output_type": "stream",
     "text": [
      "list:   []\n"
     ]
    }
   ],
   "source": [
    "#generate an empty list to store appointment times in\n",
    "appt_list = []\n",
    "print(\"list:  \", appt_list)"
   ]
  },
  {
   "cell_type": "code",
   "execution_count": 37,
   "id": "eac02a8e",
   "metadata": {},
   "outputs": [
    {
     "name": "stdout",
     "output_type": "stream",
     "text": [
      "skipping, list is empty\n"
     ]
    }
   ],
   "source": [
    "#check for appointments from fairbank and add to list if new\n",
    "d_API = requests.get('https://ttp.cbp.dhs.gov/schedulerapi/slots?orderBy=soonest&limit=1&locationId=6480&minimum=1')\n",
    "a = json.loads(d_API.text)\n",
    "\n",
    "if len(a) == 0:\n",
    "    pass\n",
    "    print(\"skipping, list is empty\")\n",
    "else:\n",
    "    appt_time = a[0]['startTimestamp']\n",
    "    t = datetime.strptime(appt_time, '%Y-%m-%dT%H:%M')\n"
   ]
  },
  {
   "cell_type": "code",
   "execution_count": 56,
   "id": "dae5726b",
   "metadata": {},
   "outputs": [],
   "source": [
    "def periodic_work(interval):\n",
    "    while True:\n",
    "\n",
    "        #check for appointments from fairbank and add to list if new\n",
    "        d_API = requests.get('https://ttp.cbp.dhs.gov/schedulerapi/slots?orderBy=soonest&limit=1&locationId=6480&minimum=1')\n",
    "        a = json.loads(d_API.text)\n",
    "        if len(a) == 0:\n",
    "            pass\n",
    "            print(\"No new appointments\")\n",
    "        else:\n",
    "            appt_time = a[0]['startTimestamp']\n",
    "            t = datetime.strptime(appt_time, '%Y-%m-%dT%H:%M')\n",
    "            if t not in appt_list:\n",
    "                appt_list.append(t)\n",
    "                print(\"New appointment added on\", t.strftime(\"%A %B %d, %Y\"), \"sending a text alert now...\")\n",
    "                account_sid = 'AC59fe854bae06cfdbe5f0aae5375a7be7'\n",
    "                auth_token = '73af7c98667b85967c90e0b9b24eeb2a'\n",
    "                client = Client(account_sid, auth_token)\n",
    "                message = client.messages \\\n",
    "                            .create(\n",
    "                                 body=\"New Bowling Green appointment added on {} at {}\".format(t.strftime(\"%A %B %d, %Y\"),t.strftime(\"%H:%M %p\")),\n",
    "                                 from_='+19794067684',\n",
    "                                 to='+16073425655'\n",
    "                             )\n",
    "            else:\n",
    "                print(\"No new appointments\")\n",
    "\n",
    "        \n",
    "        #interval should be an integer, the number of seconds to wait\n",
    "        time.sleep(interval)"
   ]
  },
  {
   "cell_type": "code",
   "execution_count": 57,
   "id": "bf2807c4",
   "metadata": {
    "scrolled": true
   },
   "outputs": [
    {
     "name": "stdout",
     "output_type": "stream",
     "text": [
      "New appointment added on Wednesday July 13, 2022 sending a text alert now...\n",
      "No new appointments\n"
     ]
    },
    {
     "ename": "KeyboardInterrupt",
     "evalue": "",
     "output_type": "error",
     "traceback": [
      "\u001b[0;31m---------------------------------------------------------------------------\u001b[0m",
      "\u001b[0;31mKeyboardInterrupt\u001b[0m                         Traceback (most recent call last)",
      "\u001b[0;32m<ipython-input-57-66d721b93c57>\u001b[0m in \u001b[0;36m<module>\u001b[0;34m\u001b[0m\n\u001b[0;32m----> 1\u001b[0;31m \u001b[0mperiodic_work\u001b[0m\u001b[0;34m(\u001b[0m\u001b[0;36m15\u001b[0m\u001b[0;34m)\u001b[0m\u001b[0;34m\u001b[0m\u001b[0;34m\u001b[0m\u001b[0m\n\u001b[0m",
      "\u001b[0;32m<ipython-input-56-c81b8da4a5f7>\u001b[0m in \u001b[0;36mperiodic_work\u001b[0;34m(interval)\u001b[0m\n\u001b[1;32m     28\u001b[0m \u001b[0;34m\u001b[0m\u001b[0m\n\u001b[1;32m     29\u001b[0m         \u001b[0;31m#interval should be an integer, the number of seconds to wait\u001b[0m\u001b[0;34m\u001b[0m\u001b[0;34m\u001b[0m\u001b[0;34m\u001b[0m\u001b[0m\n\u001b[0;32m---> 30\u001b[0;31m         \u001b[0mtime\u001b[0m\u001b[0;34m.\u001b[0m\u001b[0msleep\u001b[0m\u001b[0;34m(\u001b[0m\u001b[0minterval\u001b[0m\u001b[0;34m)\u001b[0m\u001b[0;34m\u001b[0m\u001b[0;34m\u001b[0m\u001b[0m\n\u001b[0m",
      "\u001b[0;31mKeyboardInterrupt\u001b[0m: "
     ]
    }
   ],
   "source": [
    "periodic_work(15)"
   ]
  }
 ],
 "metadata": {
  "kernelspec": {
   "display_name": "Python 3",
   "language": "python",
   "name": "python3"
  },
  "language_info": {
   "codemirror_mode": {
    "name": "ipython",
    "version": 3
   },
   "file_extension": ".py",
   "mimetype": "text/x-python",
   "name": "python",
   "nbconvert_exporter": "python",
   "pygments_lexer": "ipython3",
   "version": "3.8.8"
  }
 },
 "nbformat": 4,
 "nbformat_minor": 5
}
